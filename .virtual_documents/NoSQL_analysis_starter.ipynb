





from pymongo import MongoClient
import pandas as pd
from pprint import pprint


# Create an instance of MongoClient
mongo = MongoClient(port=27017)


# assign the uk_food database to a variable name
db = mongo['uk_food']


# review the collections in our database
db.list_collection_names()


# assign the collection to a variable
establishments = db['establishments']








# Find the establishments with a hygiene score of 20
query = {"scores.Hygiene": 20}

# Use count_documents to display the number of documents in the result
count = establishments.count_documents(query)
print(count)
# Display the first document in the results using pprint
first_result = establishments.find_one(query)
pprint(first_result)


# Convert the result to a Pandas DataFrame
results = establishments.find(query)
df = pd.DataFrame(list(results))

# Display the number of rows in the DataFrame
number_of_rows = df.shape[0]
print(f'Number of rows in the DataFrame: {number_of_rows}')

# Display the first 10 rows of the DataFrame
df.head(10)





# Find the establishments with London as the Local Authority and has a RatingValue greater than or equal to 4.
query = {
    "AddressLine3": "London",
    "RatingValue": {"$gte": 4}
}

# Use count_documents to display the number of documents in the result
count = establishments.count_documents(query)
print(count)

# Display the first document in the results using pprint
first_result = establishments.find_one(query)
pprint(first_result)


# Convert the result to a Pandas DataFrame
results = establishments.find(query)
df = pd.DataFrame(list(results))

# Display the number of rows in the DataFrame
number_of_rows = df.shape[0]
print(f'Number of rows in the DataFrame: {number_of_rows}')

# Display the first 10 rows of the DataFrame
df.head(10)






# Search within 0.01 degree on either side of the latitude and longitude.

# Get the geolocation of "Penang Flavours"
penang_flavours = establishments.find_one({"BusinessName": "Penang Flavours"})
penang_flavours_location = penang_flavours['geocode']

degree_search = 0.01
latitude = float(penang_flavours_location['latitude'].to_decimal())
longitude = float(penang_flavours_location['longitude'].to_decimal())


# Rating value must equal 5
query = {
    "RatingValue": 5,
    "geocode.latitude": {"$gte": latitude - degree_search, "$lte": latitude + degree_search},
    "geocode.longitude": {"$gte": longitude - degree_search, "$lte": longitude + degree_search}
}

# Sort by hygiene score and limit to top 5
sort = [("scores.Hygiene", 1)]
limit = 5
results = establishments.find(query).sort(sort).limit(limit)

# Print the results
for result in results:
    pprint(result)


# Convert result to Pandas DataFrame
results = establishments.find(query).sort(sort).limit(limit)
results_df = pd.DataFrame(list(results))
results_df






# Create a pipeline that:
# 1. Matches establishments with a hygiene score of 0
# 2. Groups the matches by Local Authority
# 3. Sorts the matches from highest to lowest
pipeline = [
    {"$match": {"scores.Hygiene": 0}},
    {"$group": {"_id": "$LocalAuthorityName","count": {"$sum": 1}}},
    {"$sort": {"count": -1}}
]
# Execute the aggregation pipeline
results = list(establishments.aggregate(pipeline))

# Print the number of documents in the result
print(f'Number of documents in the results: {len(results)}')

# Print the first 10 results
print("First 10 results:")
for result in results[:10]:
    pprint(result)


# Convert the result to a Pandas DataFrame
results_df = pd.DataFrame(list(results))
# Display the number of rows in the DataFrame
number_of_rows = results_df.shape[0]
print(number_of_rows)
# Display the first 10 rows of the DataFrame
results_df.head(10)



