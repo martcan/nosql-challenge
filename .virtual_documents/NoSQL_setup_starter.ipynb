








#install pymongo in jupyterlab 
!pip install pymongo


# Import dependencies
from pymongo import MongoClient
from pprint import pprint


# Create an instance of MongoClient
mongo = MongoClient(port=27017)


# confirm that our new database was created
# there is a manual action that you have to get done in Windows Powershell by running the following command 
# mongoimport --type json -d uk_food -c establishments --drop --jsonArray establishments.json
print(mongo.list_database_names())


# assign the uk_food database to a variable name
db = mongo['uk_food']


# review the collections in our new database
db.list_collection_names()


# List the names of the collections in the database.
print(db.list_collection_names())


# review a document in the establishments collection
print(db.establishments.find_one())


# assign the collection to a variable
establishments = db['establishments']








# Create a dictionary for the new restaurant data
new_restaurant = {
    "BusinessName": "Penang Flavours",
    "BusinessType": "Restaurant/Cafe/Canteen",
    "BusinessTypeID": "",
    "AddressLine1": "Penang Flavours",
    "AddressLine2": "146A Plumstead Rd",
    "AddressLine3": "London",
    "AddressLine4": "",
    "PostCode": "SE18 7DY",
    "Phone": "",
    "LocalAuthorityCode": "511",
    "LocalAuthorityName": "Greenwich",
    "LocalAuthorityWebSite": "http://www.royalgreenwich.gov.uk",
    "LocalAuthorityEmailAddress": "health@royalgreenwich.gov.uk",
    "scores": {
        "Hygiene": "",
        "Structural": "",
        "ConfidenceInManagement": ""
    },
    "SchemeType": "FHRS",
    "geocode": {
        "longitude": "0.08384000",
        "latitude": "51.49014200"
    },
    "RightToReply": "",
    "Distance": 4623.9723280747176,
    "NewRatingPending": True
}


# Insert the new restaurant into the collection
establishments.insert_one(new_restaurant)


# Check that the new restaurant was inserted
query = {"BusinessName": "Penang Flavours"}

new_entry = establishments.find_one(query)

# Print the result
if new_entry==None:
    print("The new entry was not found.")
else:
    pprint(new_entry)





# Find the BusinessTypeID for "Restaurant/Cafe/Canteen" and return only the BusinessTypeID and BusinessType fields
# Query to find the BusinessTypeID for "Restaurant/Cafe/Canteen"
query = {"BusinessType": "Restaurant/Cafe/Canteen"}
projection = {"BusinessTypeID": 1, "BusinessType": 1, "_id": 0}
limit =10# limit to 10 for the results as the the list was too long at the first run without the limit as we want to search for the BusinessTypeID only

# Find the documents,and cast the results as a list 
results = list(establishments.find(query, projection).limit(limit))

# Print the results
pprint(results)





# Update the new restaurant with the correct BusinessTypeID
establishments.update_one({"BusinessName": "Penang Flavours"}, {"$set": {"BusinessTypeID": "1"}})



# Confirm that the new restaurant was updated
# Rerun the previous code block
query = {"BusinessName": "Penang Flavours"}

new_entry = establishments.find_one(query)

# Print the result
if new_entry==None:
    print("The new entry was not found.")
else:
    pprint(new_entry)





# Find how many documents have LocalAuthorityName as "Dover"
count = establishments.count_documents({"LocalAuthorityName": "Dover"})

print(f"Number of documents with LocalAuthorityName as 'Dover': {count}")


# Delete all documents where LocalAuthorityName is "Dover"
establishments.delete_many({"LocalAuthorityName": "Dover"})


# Check if any remaining documents include Dover
count = establishments.count_documents({"LocalAuthorityName": "Dover"})

print(f"Number of documents with LocalAuthorityName as 'Dover': {count}")


# Check that other documents remain with 'find_one'
remaining_document = establishments.find_one()
pprint(remaining_document)








# Change the data type from String to Decimal for longitude and latitude
establishments.update_many(
    {
        "geocode.longitude": {"$type": "string"},
        "geocode.latitude": {"$type": "string"}
    },
    [
        {
            "$set": {
                "geocode.longitude": {"$convert": {"input": "$geocode.longitude", "to": "decimal"}},
                "geocode.latitude": {"$convert": {"input": "$geocode.latitude", "to": "decimal"}}
            }
        }
    ]
)





# Set non 1-5 Rating Values to Null
non_ratings = ["AwaitingInspection", "Awaiting Inspection", "AwaitingPublication", "Pass", "Exempt"]
establishments.update_many({"RatingValue": {"$in": non_ratings}}, [ {'$set':{ "RatingValue" : None}} ])


# Change the data type from String to Integer for RatingValue
establishments.update_many(
    {
        "RatingValue": {"$type": "string"}
    },
    [
        {
            "$set": {
                "RatingValue": {"$convert": {"input": "$RatingValue", "to": "int", "onError": None, "onNull": None}}
            }
        }
    ]
)


# Check that the coordinates and rating value are now numbers
#searching for the first document in the collection 
search = establishments.find_one(
    {
        "$and": [
            {"geocode.longitude": {"$type": "decimal"}},
            {"geocode.latitude": {"$type": "decimal"}},
            {"RatingValue": {"$type": "int"}}
        ]
    },
    {"geocode.longitude": 1, "geocode.latitude": 1, "RatingValue": 1, "_id": 0}
)

# Print that document and its data types for verification
if search:
    pprint(search)
    print(f"Type of longitude: {type(search['geocode']['longitude'])}")
    print(f"Type of latitude: {type(search['geocode']['latitude'])}")
    print(f"Type of RatingValue: {type(search['RatingValue'])}")
else:
    print("The format is not correct!")



